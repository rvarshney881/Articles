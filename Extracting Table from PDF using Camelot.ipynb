{
 "cells": [
  {
   "cell_type": "code",
   "execution_count": 1,
   "metadata": {},
   "outputs": [],
   "source": [
    "import camelot\n",
    "import pandas as pd"
   ]
  },
  {
   "cell_type": "code",
   "execution_count": 5,
   "metadata": {},
   "outputs": [],
   "source": [
    "tables= camelot.read_pdf('sample.pdf')"
   ]
  },
  {
   "cell_type": "code",
   "execution_count": 14,
   "metadata": {},
   "outputs": [
    {
     "name": "stdout",
     "output_type": "stream",
     "text": [
      "<TableList n=1>\n",
      "<Table shape=(6, 6)>\n"
     ]
    }
   ],
   "source": [
    "print(tables)\n",
    "print(tables[0])"
   ]
  },
  {
   "cell_type": "code",
   "execution_count": 6,
   "metadata": {},
   "outputs": [],
   "source": [
    "new_tables=tables[0]"
   ]
  },
  {
   "cell_type": "code",
   "execution_count": 7,
   "metadata": {},
   "outputs": [
    {
     "data": {
      "text/html": [
       "<div>\n",
       "<style scoped>\n",
       "    .dataframe tbody tr th:only-of-type {\n",
       "        vertical-align: middle;\n",
       "    }\n",
       "\n",
       "    .dataframe tbody tr th {\n",
       "        vertical-align: top;\n",
       "    }\n",
       "\n",
       "    .dataframe thead th {\n",
       "        text-align: right;\n",
       "    }\n",
       "</style>\n",
       "<table border=\"1\" class=\"dataframe\">\n",
       "  <thead>\n",
       "    <tr style=\"text-align: right;\">\n",
       "      <th></th>\n",
       "      <th>0</th>\n",
       "      <th>1</th>\n",
       "      <th>2</th>\n",
       "      <th>3</th>\n",
       "      <th>4</th>\n",
       "      <th>5</th>\n",
       "    </tr>\n",
       "  </thead>\n",
       "  <tbody>\n",
       "    <tr>\n",
       "      <th>0</th>\n",
       "      <td>Disability \\nCategory</td>\n",
       "      <td>Participants</td>\n",
       "      <td>Ballots \\nCompleted</td>\n",
       "      <td>Ballots \\nIncomplete/ \\nTerminated</td>\n",
       "      <td>Results</td>\n",
       "      <td></td>\n",
       "    </tr>\n",
       "    <tr>\n",
       "      <th>1</th>\n",
       "      <td></td>\n",
       "      <td></td>\n",
       "      <td></td>\n",
       "      <td></td>\n",
       "      <td>Accuracy</td>\n",
       "      <td>Time to \\ncomplete</td>\n",
       "    </tr>\n",
       "    <tr>\n",
       "      <th>2</th>\n",
       "      <td>Blind</td>\n",
       "      <td>5</td>\n",
       "      <td>1</td>\n",
       "      <td>4</td>\n",
       "      <td>34.5%, n=1</td>\n",
       "      <td>1199 sec, n=1</td>\n",
       "    </tr>\n",
       "    <tr>\n",
       "      <th>3</th>\n",
       "      <td>Low Vision</td>\n",
       "      <td>5</td>\n",
       "      <td>2</td>\n",
       "      <td>3</td>\n",
       "      <td>98.3% n=2 \\n(97.7%, n=3)</td>\n",
       "      <td>1716 sec, n=3 \\n(1934 sec, n=2)</td>\n",
       "    </tr>\n",
       "    <tr>\n",
       "      <th>4</th>\n",
       "      <td>Dexterity</td>\n",
       "      <td>5</td>\n",
       "      <td>4</td>\n",
       "      <td>1</td>\n",
       "      <td>98.3%, n=4</td>\n",
       "      <td>1672.1 sec, n=4</td>\n",
       "    </tr>\n",
       "    <tr>\n",
       "      <th>5</th>\n",
       "      <td>Mobility</td>\n",
       "      <td>3</td>\n",
       "      <td>3</td>\n",
       "      <td>0</td>\n",
       "      <td>95.4%, n=3</td>\n",
       "      <td>1416 sec, n=3</td>\n",
       "    </tr>\n",
       "  </tbody>\n",
       "</table>\n",
       "</div>"
      ],
      "text/plain": [
       "                       0             1                    2  \\\n",
       "0  Disability \\nCategory  Participants  Ballots \\nCompleted   \n",
       "1                                                             \n",
       "2                  Blind             5                    1   \n",
       "3             Low Vision             5                    2   \n",
       "4              Dexterity             5                    4   \n",
       "5               Mobility             3                    3   \n",
       "\n",
       "                                    3                         4  \\\n",
       "0  Ballots \\nIncomplete/ \\nTerminated                   Results   \n",
       "1                                                      Accuracy   \n",
       "2                                   4                34.5%, n=1   \n",
       "3                                   3  98.3% n=2 \\n(97.7%, n=3)   \n",
       "4                                   1                98.3%, n=4   \n",
       "5                                   0                95.4%, n=3   \n",
       "\n",
       "                                 5  \n",
       "0                                   \n",
       "1               Time to \\ncomplete  \n",
       "2                    1199 sec, n=1  \n",
       "3  1716 sec, n=3 \\n(1934 sec, n=2)  \n",
       "4                  1672.1 sec, n=4  \n",
       "5                    1416 sec, n=3  "
      ]
     },
     "execution_count": 7,
     "metadata": {},
     "output_type": "execute_result"
    }
   ],
   "source": [
    "new_tables.df"
   ]
  },
  {
   "cell_type": "code",
   "execution_count": 9,
   "metadata": {},
   "outputs": [],
   "source": [
    "new_tables.to_csv(\"mypsd.csv\")"
   ]
  }
 ],
 "metadata": {
  "kernelspec": {
   "display_name": "Python 3",
   "language": "python",
   "name": "python3"
  },
  "language_info": {
   "codemirror_mode": {
    "name": "ipython",
    "version": 3
   },
   "file_extension": ".py",
   "mimetype": "text/x-python",
   "name": "python",
   "nbconvert_exporter": "python",
   "pygments_lexer": "ipython3",
   "version": "3.7.4"
  }
 },
 "nbformat": 4,
 "nbformat_minor": 2
}
